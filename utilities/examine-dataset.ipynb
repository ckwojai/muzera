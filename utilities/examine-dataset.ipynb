{
 "cells": [
  {
   "cell_type": "code",
   "execution_count": 31,
   "id": "39dd925e",
   "metadata": {},
   "outputs": [],
   "source": [
    "import pandas as pd"
   ]
  },
  {
   "cell_type": "code",
   "execution_count": 32,
   "id": "fcc10271",
   "metadata": {},
   "outputs": [],
   "source": [
    "#ds = pd.read_csv(\"../ds_labeled.csv\")\n",
    "ds = pd.read_csv(\"../ds_labeled_with_midi.csv\")"
   ]
  },
  {
   "cell_type": "code",
   "execution_count": 33,
   "id": "039c3793",
   "metadata": {},
   "outputs": [
    {
     "data": {
      "text/html": [
       "<div>\n",
       "<style scoped>\n",
       "    .dataframe tbody tr th:only-of-type {\n",
       "        vertical-align: middle;\n",
       "    }\n",
       "\n",
       "    .dataframe tbody tr th {\n",
       "        vertical-align: top;\n",
       "    }\n",
       "\n",
       "    .dataframe thead th {\n",
       "        text-align: right;\n",
       "    }\n",
       "</style>\n",
       "<table border=\"1\" class=\"dataframe\">\n",
       "  <thead>\n",
       "    <tr style=\"text-align: right;\">\n",
       "      <th></th>\n",
       "      <th>Unnamed: 0.1</th>\n",
       "      <th>Unnamed: 0</th>\n",
       "      <th>surname</th>\n",
       "      <th>firstname</th>\n",
       "      <th>music</th>\n",
       "      <th>nationality</th>\n",
       "      <th>birth</th>\n",
       "      <th>death</th>\n",
       "      <th>youtube_title</th>\n",
       "      <th>youtube_id</th>\n",
       "      <th>similarity</th>\n",
       "      <th>piano_solo_prob</th>\n",
       "      <th>audio_name</th>\n",
       "      <th>audio_duration</th>\n",
       "      <th>giant_midi_piano</th>\n",
       "      <th>split</th>\n",
       "      <th>surname_in_youtube_title</th>\n",
       "      <th>fullname</th>\n",
       "      <th>era</th>\n",
       "    </tr>\n",
       "  </thead>\n",
       "  <tbody>\n",
       "    <tr>\n",
       "      <th>0</th>\n",
       "      <td>106</td>\n",
       "      <td>5839</td>\n",
       "      <td>Bach</td>\n",
       "      <td>Johann Sebastian</td>\n",
       "      <td>Air in F major, BWV Anh.131</td>\n",
       "      <td>British</td>\n",
       "      <td>1685</td>\n",
       "      <td>1750</td>\n",
       "      <td>Bach, Air in F major, BWV Anh 131</td>\n",
       "      <td>ofljU7lmZMA</td>\n",
       "      <td>1.000000</td>\n",
       "      <td>0.892155</td>\n",
       "      <td>Bach, Johann Sebastian, Air in F major, BWV An...</td>\n",
       "      <td>60.157469</td>\n",
       "      <td>1.0</td>\n",
       "      <td>train</td>\n",
       "      <td>1.0</td>\n",
       "      <td>Johann Sebastian Bach</td>\n",
       "      <td>Baroque</td>\n",
       "    </tr>\n",
       "    <tr>\n",
       "      <th>1</th>\n",
       "      <td>120</td>\n",
       "      <td>5853</td>\n",
       "      <td>Bach</td>\n",
       "      <td>Johann Sebastian</td>\n",
       "      <td>Allemande in C minor, BWV 834</td>\n",
       "      <td>British</td>\n",
       "      <td>1685</td>\n",
       "      <td>1750</td>\n",
       "      <td>Allemande in C Minor (BWV 834) for Harp</td>\n",
       "      <td>0lx-kPXgPw8</td>\n",
       "      <td>0.857143</td>\n",
       "      <td>0.790799</td>\n",
       "      <td>Bach, Johann Sebastian, Allemande in C minor, ...</td>\n",
       "      <td>285.985469</td>\n",
       "      <td>1.0</td>\n",
       "      <td>train</td>\n",
       "      <td>0.0</td>\n",
       "      <td>Johann Sebastian Bach</td>\n",
       "      <td>Baroque</td>\n",
       "    </tr>\n",
       "    <tr>\n",
       "      <th>2</th>\n",
       "      <td>121</td>\n",
       "      <td>5854</td>\n",
       "      <td>Bach</td>\n",
       "      <td>Johann Sebastian</td>\n",
       "      <td>Allemande in G minor, BWV 836</td>\n",
       "      <td>British</td>\n",
       "      <td>1685</td>\n",
       "      <td>1750</td>\n",
       "      <td>Bach: Allemande in G Minor, BWV 836 (Urtext Ed...</td>\n",
       "      <td>mCCux8jvhkA</td>\n",
       "      <td>1.000000</td>\n",
       "      <td>0.952825</td>\n",
       "      <td>Bach, Johann Sebastian, Allemande in G minor, ...</td>\n",
       "      <td>155.737469</td>\n",
       "      <td>1.0</td>\n",
       "      <td>train</td>\n",
       "      <td>1.0</td>\n",
       "      <td>Johann Sebastian Bach</td>\n",
       "      <td>Baroque</td>\n",
       "    </tr>\n",
       "    <tr>\n",
       "      <th>3</th>\n",
       "      <td>126</td>\n",
       "      <td>5859</td>\n",
       "      <td>Bach</td>\n",
       "      <td>Johann Sebastian</td>\n",
       "      <td>Als der gütige Gott vollenden wollt sein Wort,...</td>\n",
       "      <td>British</td>\n",
       "      <td>1685</td>\n",
       "      <td>1750</td>\n",
       "      <td>Bach - Als der gütige Gott vollenden wollt sei...</td>\n",
       "      <td>I69tdLLbIyw</td>\n",
       "      <td>0.818182</td>\n",
       "      <td>0.675175</td>\n",
       "      <td>Bach, Johann Sebastian, Als der gütige Gott vo...</td>\n",
       "      <td>41.257469</td>\n",
       "      <td>1.0</td>\n",
       "      <td>train</td>\n",
       "      <td>1.0</td>\n",
       "      <td>Johann Sebastian Bach</td>\n",
       "      <td>Baroque</td>\n",
       "    </tr>\n",
       "    <tr>\n",
       "      <th>4</th>\n",
       "      <td>133</td>\n",
       "      <td>5866</td>\n",
       "      <td>Bach</td>\n",
       "      <td>Johann Sebastian</td>\n",
       "      <td>Andante in G minor, BWV 969</td>\n",
       "      <td>British</td>\n",
       "      <td>1685</td>\n",
       "      <td>1750</td>\n",
       "      <td>Bach, Andante in G minor, BWV 969, Piano</td>\n",
       "      <td>IN5Ma07uT5M</td>\n",
       "      <td>1.000000</td>\n",
       "      <td>0.846741</td>\n",
       "      <td>Bach, Johann Sebastian, Andante in G minor, BW...</td>\n",
       "      <td>111.025469</td>\n",
       "      <td>1.0</td>\n",
       "      <td>train</td>\n",
       "      <td>1.0</td>\n",
       "      <td>Johann Sebastian Bach</td>\n",
       "      <td>Baroque</td>\n",
       "    </tr>\n",
       "  </tbody>\n",
       "</table>\n",
       "</div>"
      ],
      "text/plain": [
       "   Unnamed: 0.1  Unnamed: 0 surname         firstname  \\\n",
       "0           106        5839    Bach  Johann Sebastian   \n",
       "1           120        5853    Bach  Johann Sebastian   \n",
       "2           121        5854    Bach  Johann Sebastian   \n",
       "3           126        5859    Bach  Johann Sebastian   \n",
       "4           133        5866    Bach  Johann Sebastian   \n",
       "\n",
       "                                               music nationality  birth  \\\n",
       "0                        Air in F major, BWV Anh.131     British   1685   \n",
       "1                      Allemande in C minor, BWV 834     British   1685   \n",
       "2                      Allemande in G minor, BWV 836     British   1685   \n",
       "3  Als der gütige Gott vollenden wollt sein Wort,...     British   1685   \n",
       "4                        Andante in G minor, BWV 969     British   1685   \n",
       "\n",
       "   death                                      youtube_title   youtube_id  \\\n",
       "0   1750                  Bach, Air in F major, BWV Anh 131  ofljU7lmZMA   \n",
       "1   1750            Allemande in C Minor (BWV 834) for Harp  0lx-kPXgPw8   \n",
       "2   1750  Bach: Allemande in G Minor, BWV 836 (Urtext Ed...  mCCux8jvhkA   \n",
       "3   1750  Bach - Als der gütige Gott vollenden wollt sei...  I69tdLLbIyw   \n",
       "4   1750           Bach, Andante in G minor, BWV 969, Piano  IN5Ma07uT5M   \n",
       "\n",
       "   similarity  piano_solo_prob  \\\n",
       "0    1.000000         0.892155   \n",
       "1    0.857143         0.790799   \n",
       "2    1.000000         0.952825   \n",
       "3    0.818182         0.675175   \n",
       "4    1.000000         0.846741   \n",
       "\n",
       "                                          audio_name  audio_duration  \\\n",
       "0  Bach, Johann Sebastian, Air in F major, BWV An...       60.157469   \n",
       "1  Bach, Johann Sebastian, Allemande in C minor, ...      285.985469   \n",
       "2  Bach, Johann Sebastian, Allemande in G minor, ...      155.737469   \n",
       "3  Bach, Johann Sebastian, Als der gütige Gott vo...       41.257469   \n",
       "4  Bach, Johann Sebastian, Andante in G minor, BW...      111.025469   \n",
       "\n",
       "   giant_midi_piano  split  surname_in_youtube_title               fullname  \\\n",
       "0               1.0  train                       1.0  Johann Sebastian Bach   \n",
       "1               1.0  train                       0.0  Johann Sebastian Bach   \n",
       "2               1.0  train                       1.0  Johann Sebastian Bach   \n",
       "3               1.0  train                       1.0  Johann Sebastian Bach   \n",
       "4               1.0  train                       1.0  Johann Sebastian Bach   \n",
       "\n",
       "       era  \n",
       "0  Baroque  \n",
       "1  Baroque  \n",
       "2  Baroque  \n",
       "3  Baroque  \n",
       "4  Baroque  "
      ]
     },
     "execution_count": 33,
     "metadata": {},
     "output_type": "execute_result"
    }
   ],
   "source": [
    "ds.head()"
   ]
  },
  {
   "cell_type": "code",
   "execution_count": 34,
   "id": "7b172468",
   "metadata": {},
   "outputs": [
    {
     "name": "stdout",
     "output_type": "stream",
     "text": [
      "Num of datapoints: 948\n",
      "Num of unique composers: 23\n",
      "Num of unique eras: 3\n"
     ]
    }
   ],
   "source": [
    "print(f\"Num of datapoints: {len(ds)}\")\n",
    "print(f\"Num of unique composers: {ds['fullname'].nunique()}\")\n",
    "print(f\"Num of unique eras: {ds['era'].nunique()}\")"
   ]
  },
  {
   "cell_type": "code",
   "execution_count": 35,
   "id": "d6e9030e",
   "metadata": {},
   "outputs": [
    {
     "data": {
      "text/plain": [
       "<AxesSubplot:>"
      ]
     },
     "execution_count": 35,
     "metadata": {},
     "output_type": "execute_result"
    },
    {
     "data": {
      "image/png": "[encoded data removed]",
      "text/plain": [
       "<Figure size 432x288 with 1 Axes>"
      ]
     },
     "metadata": {
      "needs_background": "light"
     },
     "output_type": "display_data"
    }
   ],
   "source": [
    "ds[\"era\"].value_counts().plot(kind='bar')"
   ]
  },
  {
   "cell_type": "code",
   "execution_count": 36,
   "id": "9fae96d6",
   "metadata": {},
   "outputs": [
    {
     "data": {
      "text/plain": [
       "<AxesSubplot:>"
      ]
     },
     "execution_count": 36,
     "metadata": {},
     "output_type": "execute_result"
    },
    {
     "data": {
      "image/png": "[encoded data removed]",
      "text/plain": [
       "<Figure size 432x288 with 1 Axes>"
      ]
     },
     "metadata": {
      "needs_background": "light"
     },
     "output_type": "display_data"
    }
   ],
   "source": [
    "ds[\"fullname\"].value_counts().plot(kind='bar')"
   ]
  },
  {
   "cell_type": "code",
   "execution_count": null,
   "id": "9646caa6",
   "metadata": {},
   "outputs": [],
   "source": []
  },
  {
   "cell_type": "code",
   "execution_count": null,
   "id": "db1984b1",
   "metadata": {},
   "outputs": [],
   "source": []
  }
 ],
 "metadata": {
  "kernelspec": {
   "display_name": "Python 3 (ipykernel)",
   "language": "python",
   "name": "python3"
  },
  "language_info": {
   "codemirror_mode": {
    "name": "ipython",
    "version": 3
   },
   "file_extension": ".py",
   "mimetype": "text/x-python",
   "name": "python",
   "nbconvert_exporter": "python",
   "pygments_lexer": "ipython3",
   "version": "3.9.7"
  }
 },
 "nbformat": 4,
 "nbformat_minor": 5
}
