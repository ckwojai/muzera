{
 "cells": [
  {
   "cell_type": "code",
   "execution_count": 1,
   "id": "39dd925e",
   "metadata": {},
   "outputs": [],
   "source": [
    "import pandas as pd"
   ]
  },
  {
   "cell_type": "code",
   "execution_count": 2,
   "id": "fcc10271",
   "metadata": {},
   "outputs": [],
   "source": [
    "ds = pd.read_csv(\"../ds_labeled.csv\")"
   ]
  },
  {
   "cell_type": "code",
   "execution_count": 3,
   "id": "039c3793",
   "metadata": {},
   "outputs": [
    {
     "data": {
      "text/html": [
       "<div>\n",
       "<style scoped>\n",
       "    .dataframe tbody tr th:only-of-type {\n",
       "        vertical-align: middle;\n",
       "    }\n",
       "\n",
       "    .dataframe tbody tr th {\n",
       "        vertical-align: top;\n",
       "    }\n",
       "\n",
       "    .dataframe thead th {\n",
       "        text-align: right;\n",
       "    }\n",
       "</style>\n",
       "<table border=\"1\" class=\"dataframe\">\n",
       "  <thead>\n",
       "    <tr style=\"text-align: right;\">\n",
       "      <th></th>\n",
       "      <th>Unnamed: 0</th>\n",
       "      <th>surname</th>\n",
       "      <th>firstname</th>\n",
       "      <th>music</th>\n",
       "      <th>nationality</th>\n",
       "      <th>birth</th>\n",
       "      <th>death</th>\n",
       "      <th>youtube_title</th>\n",
       "      <th>youtube_id</th>\n",
       "      <th>similarity</th>\n",
       "      <th>piano_solo_prob</th>\n",
       "      <th>audio_name</th>\n",
       "      <th>audio_duration</th>\n",
       "      <th>giant_midi_piano</th>\n",
       "      <th>split</th>\n",
       "      <th>surname_in_youtube_title</th>\n",
       "      <th>era</th>\n",
       "      <th>fullname</th>\n",
       "    </tr>\n",
       "  </thead>\n",
       "  <tbody>\n",
       "    <tr>\n",
       "      <th>0</th>\n",
       "      <td>1527</td>\n",
       "      <td>Albinoni</td>\n",
       "      <td>Tomaso</td>\n",
       "      <td>Adagio in G minor</td>\n",
       "      <td>Italian</td>\n",
       "      <td>1671</td>\n",
       "      <td>1751</td>\n",
       "      <td>Tomaso Albinoni - Adagio in G Minor</td>\n",
       "      <td>u99f9RAvwu4</td>\n",
       "      <td>1.000000</td>\n",
       "      <td>0.049835</td>\n",
       "      <td>Albinoni, Tomaso, Adagio in G minor, u99f9RAvwu4</td>\n",
       "      <td>485.785469</td>\n",
       "      <td>0.0</td>\n",
       "      <td>NaN</td>\n",
       "      <td>1.0</td>\n",
       "      <td>Baroque</td>\n",
       "      <td>Tomaso Albinoni</td>\n",
       "    </tr>\n",
       "    <tr>\n",
       "      <th>1</th>\n",
       "      <td>1528</td>\n",
       "      <td>Albinoni</td>\n",
       "      <td>Tomaso</td>\n",
       "      <td>Alcina delusa da Ruggero</td>\n",
       "      <td>Italian</td>\n",
       "      <td>1671</td>\n",
       "      <td>1751</td>\n",
       "      <td>Tomaso Albinoni - Adagio in G Minor</td>\n",
       "      <td>u99f9RAvwu4</td>\n",
       "      <td>0.200000</td>\n",
       "      <td>NaN</td>\n",
       "      <td>NaN</td>\n",
       "      <td>NaN</td>\n",
       "      <td>NaN</td>\n",
       "      <td>NaN</td>\n",
       "      <td>NaN</td>\n",
       "      <td>Baroque</td>\n",
       "      <td>Tomaso Albinoni</td>\n",
       "    </tr>\n",
       "    <tr>\n",
       "      <th>2</th>\n",
       "      <td>1529</td>\n",
       "      <td>Albinoni</td>\n",
       "      <td>Tomaso</td>\n",
       "      <td>Amarissime pene, T.204.03</td>\n",
       "      <td>Italian</td>\n",
       "      <td>1671</td>\n",
       "      <td>1751</td>\n",
       "      <td>Six Cantatas from Op. 4, Cantata XII, Allegro:...</td>\n",
       "      <td>Sib75Etu5XU</td>\n",
       "      <td>0.166667</td>\n",
       "      <td>NaN</td>\n",
       "      <td>NaN</td>\n",
       "      <td>NaN</td>\n",
       "      <td>NaN</td>\n",
       "      <td>NaN</td>\n",
       "      <td>NaN</td>\n",
       "      <td>Baroque</td>\n",
       "      <td>Tomaso Albinoni</td>\n",
       "    </tr>\n",
       "    <tr>\n",
       "      <th>3</th>\n",
       "      <td>1530</td>\n",
       "      <td>Albinoni</td>\n",
       "      <td>Tomaso</td>\n",
       "      <td>Il bel ciglio d’Irene, T.204.01</td>\n",
       "      <td>Italian</td>\n",
       "      <td>1671</td>\n",
       "      <td>1751</td>\n",
       "      <td>Tomaso Albinoni: Adagio &amp; Concerti</td>\n",
       "      <td>3NzXzFLYkQ4</td>\n",
       "      <td>0.111111</td>\n",
       "      <td>NaN</td>\n",
       "      <td>NaN</td>\n",
       "      <td>NaN</td>\n",
       "      <td>NaN</td>\n",
       "      <td>NaN</td>\n",
       "      <td>NaN</td>\n",
       "      <td>Baroque</td>\n",
       "      <td>Tomaso Albinoni</td>\n",
       "    </tr>\n",
       "    <tr>\n",
       "      <th>4</th>\n",
       "      <td>1531</td>\n",
       "      <td>Albinoni</td>\n",
       "      <td>Tomaso</td>\n",
       "      <td>Clori nel ciel d’amor lucida stella, T.204.15</td>\n",
       "      <td>Italian</td>\n",
       "      <td>1671</td>\n",
       "      <td>1751</td>\n",
       "      <td>Tomaso Albinoni /Clori nel ciel (recit.) Vogli...</td>\n",
       "      <td>dGFna9-_XAs</td>\n",
       "      <td>0.363636</td>\n",
       "      <td>NaN</td>\n",
       "      <td>NaN</td>\n",
       "      <td>NaN</td>\n",
       "      <td>NaN</td>\n",
       "      <td>NaN</td>\n",
       "      <td>NaN</td>\n",
       "      <td>Baroque</td>\n",
       "      <td>Tomaso Albinoni</td>\n",
       "    </tr>\n",
       "  </tbody>\n",
       "</table>\n",
       "</div>"
      ],
      "text/plain": [
       "   Unnamed: 0   surname firstname  \\\n",
       "0        1527  Albinoni    Tomaso   \n",
       "1        1528  Albinoni    Tomaso   \n",
       "2        1529  Albinoni    Tomaso   \n",
       "3        1530  Albinoni    Tomaso   \n",
       "4        1531  Albinoni    Tomaso   \n",
       "\n",
       "                                           music nationality  birth  death  \\\n",
       "0                              Adagio in G minor     Italian   1671   1751   \n",
       "1                       Alcina delusa da Ruggero     Italian   1671   1751   \n",
       "2                      Amarissime pene, T.204.03     Italian   1671   1751   \n",
       "3                Il bel ciglio d’Irene, T.204.01     Italian   1671   1751   \n",
       "4  Clori nel ciel d’amor lucida stella, T.204.15     Italian   1671   1751   \n",
       "\n",
       "                                       youtube_title   youtube_id  similarity  \\\n",
       "0                Tomaso Albinoni - Adagio in G Minor  u99f9RAvwu4    1.000000   \n",
       "1                Tomaso Albinoni - Adagio in G Minor  u99f9RAvwu4    0.200000   \n",
       "2  Six Cantatas from Op. 4, Cantata XII, Allegro:...  Sib75Etu5XU    0.166667   \n",
       "3                 Tomaso Albinoni: Adagio & Concerti  3NzXzFLYkQ4    0.111111   \n",
       "4  Tomaso Albinoni /Clori nel ciel (recit.) Vogli...  dGFna9-_XAs    0.363636   \n",
       "\n",
       "   piano_solo_prob                                        audio_name  \\\n",
       "0         0.049835  Albinoni, Tomaso, Adagio in G minor, u99f9RAvwu4   \n",
       "1              NaN                                               NaN   \n",
       "2              NaN                                               NaN   \n",
       "3              NaN                                               NaN   \n",
       "4              NaN                                               NaN   \n",
       "\n",
       "   audio_duration  giant_midi_piano split  surname_in_youtube_title      era  \\\n",
       "0      485.785469               0.0   NaN                       1.0  Baroque   \n",
       "1             NaN               NaN   NaN                       NaN  Baroque   \n",
       "2             NaN               NaN   NaN                       NaN  Baroque   \n",
       "3             NaN               NaN   NaN                       NaN  Baroque   \n",
       "4             NaN               NaN   NaN                       NaN  Baroque   \n",
       "\n",
       "          fullname  \n",
       "0  Tomaso Albinoni  \n",
       "1  Tomaso Albinoni  \n",
       "2  Tomaso Albinoni  \n",
       "3  Tomaso Albinoni  \n",
       "4  Tomaso Albinoni  "
      ]
     },
     "execution_count": 3,
     "metadata": {},
     "output_type": "execute_result"
    }
   ],
   "source": [
    "ds.head()"
   ]
  },
  {
   "cell_type": "code",
   "execution_count": 22,
   "id": "7b172468",
   "metadata": {},
   "outputs": [
    {
     "name": "stdout",
     "output_type": "stream",
     "text": [
      "Num of datapoints: 8236\n",
      "Num of unique composers: 32\n",
      "Num of unique eras: 3\n"
     ]
    }
   ],
   "source": [
    "print(f\"Num of datapoints: {len(ds)}\")\n",
    "print(f\"Num of unique composers: {ds['fullname'].nunique()}\")\n",
    "print(f\"Num of unique eras: {ds['era'].nunique()}\")"
   ]
  },
  {
   "cell_type": "code",
   "execution_count": 23,
   "id": "d6e9030e",
   "metadata": {},
   "outputs": [
    {
     "data": {
      "text/plain": [
       "<AxesSubplot:>"
      ]
     },
     "execution_count": 23,
     "metadata": {},
     "output_type": "execute_result"
    },
    {
     "data": {
      "image/png": "[encoded data removed]",
      "text/plain": [
       "<Figure size 432x288 with 1 Axes>"
      ]
     },
     "metadata": {
      "needs_background": "light"
     },
     "output_type": "display_data"
    }
   ],
   "source": [
    "ds[\"era\"].value_counts().plot(kind='bar')"
   ]
  },
  {
   "cell_type": "code",
   "execution_count": 24,
   "id": "9fae96d6",
   "metadata": {},
   "outputs": [
    {
     "data": {
      "text/plain": [
       "<AxesSubplot:>"
      ]
     },
     "execution_count": 24,
     "metadata": {},
     "output_type": "execute_result"
    },
    {
     "data": {
      "image/png": "[encoded data removed]",
      "text/plain": [
       "<Figure size 432x288 with 1 Axes>"
      ]
     },
     "metadata": {
      "needs_background": "light"
     },
     "output_type": "display_data"
    }
   ],
   "source": [
    "ds[\"fullname\"].value_counts().plot(kind='bar')"
   ]
  },
  {
   "cell_type": "code",
   "execution_count": null,
   "id": "9646caa6",
   "metadata": {},
   "outputs": [],
   "source": []
  }
 ],
 "metadata": {
  "kernelspec": {
   "display_name": "Python 3 (ipykernel)",
   "language": "python",
   "name": "python3"
  },
  "language_info": {
   "codemirror_mode": {
    "name": "ipython",
    "version": 3
   },
   "file_extension": ".py",
   "mimetype": "text/x-python",
   "name": "python",
   "nbconvert_exporter": "python",
   "pygments_lexer": "ipython3",
   "version": "3.9.7"
  }
 },
 "nbformat": 4,
 "nbformat_minor": 5
}
