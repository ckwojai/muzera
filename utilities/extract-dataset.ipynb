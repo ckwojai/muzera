{
 "cells": [
  {
   "cell_type": "code",
   "execution_count": 49,
   "id": "56abe734",
   "metadata": {},
   "outputs": [],
   "source": [
    "import pandas as pd"
   ]
  },
  {
   "cell_type": "code",
   "execution_count": 92,
   "id": "76e5c508",
   "metadata": {},
   "outputs": [],
   "source": [
    "# From GiantMIDI's github, they somehow chose tab as their delimiter instead of the traditional \",\"\n",
    "#metadata = pd.read_csv(\"../full_music_pieces_youtube_similarity_pianosoloprob_split.csv\", sep='\\t')\n",
    "metadata = pd.read_csv(\"../full_music_pieces_youtube_similarity_pianosoloprob.csv\", sep='\\t')\n",
    "composers = pd.read_csv(\"../ComposerEraList.csv\", usecols=['Full Name', 'Era'])"
   ]
  },
  {
   "cell_type": "markdown",
   "id": "5f61cbcc",
   "metadata": {},
   "source": [
    "## Label Datapoint"
   ]
  },
  {
   "cell_type": "code",
   "execution_count": 51,
   "id": "40559b0f",
   "metadata": {},
   "outputs": [],
   "source": [
    "composer2Era = dict(zip(composers[\"Full Name\"], composers[\"Era\"]))"
   ]
  },
  {
   "cell_type": "code",
   "execution_count": 52,
   "id": "fcb8b955",
   "metadata": {},
   "outputs": [],
   "source": [
    "# Helper function to do apply() on metadata dataframe\n",
    "def findEra(x):\n",
    "    era = 'unclear'\n",
    "    name = x['firstname']+' '+x['surname']\n",
    "\n",
    "    # Extract the era label from Composers.xlsx dataframe\n",
    "    if name in composer2Era:\n",
    "        era = composer2Era[name]\n",
    "    return era"
   ]
  },
  {
   "cell_type": "code",
   "execution_count": 53,
   "id": "c6047318",
   "metadata": {},
   "outputs": [],
   "source": [
    "metadata['fullname'] = metadata.apply(lambda x: f\"{x['firstname']} {x['surname']}\", axis=1)"
   ]
  },
  {
   "cell_type": "code",
   "execution_count": 54,
   "id": "1d93ddc2",
   "metadata": {},
   "outputs": [
    {
     "name": "stderr",
     "output_type": "stream",
     "text": [
      "/var/folders/4r/z4c5m78x2tqgbkj8hx9jx2cm0000gn/T/ipykernel_7856/2693172142.py:2: SettingWithCopyWarning: \n",
      "A value is trying to be set on a copy of a slice from a DataFrame.\n",
      "Try using .loc[row_indexer,col_indexer] = value instead\n",
      "\n",
      "See the caveats in the documentation: https://pandas.pydata.org/pandas-docs/stable/user_guide/indexing.html#returning-a-view-versus-a-copy\n",
      "  ds['era'] = ds.apply(findEra, axis=1)\n"
     ]
    }
   ],
   "source": [
    "ds = metadata.loc[metadata['fullname'].isin(composer2Era.keys())]\n",
    "ds['era'] = ds.apply(findEra, axis=1)"
   ]
  },
  {
   "cell_type": "code",
   "execution_count": 56,
   "id": "16fd8966",
   "metadata": {},
   "outputs": [],
   "source": [
    "ds.to_csv(\"../ds_labeled.csv\")"
   ]
  },
  {
   "cell_type": "markdown",
   "id": "ef2cc805",
   "metadata": {},
   "source": [
    "## Extract MIDI Files"
   ]
  },
  {
   "cell_type": "code",
   "execution_count": 67,
   "id": "31e7f79a",
   "metadata": {},
   "outputs": [],
   "source": [
    "import os"
   ]
  },
  {
   "cell_type": "code",
   "execution_count": 101,
   "id": "d4da502f",
   "metadata": {},
   "outputs": [],
   "source": [
    "ds = pd.read_csv(\"../ds_labeled.csv\")\n",
    "midi_path = \"/Users/kinchang/GiantMIDI-Piano/workspace/midis\""
   ]
  },
  {
   "cell_type": "code",
   "execution_count": 102,
   "id": "57fc6dbd",
   "metadata": {},
   "outputs": [],
   "source": [
    "ds_with_audio_name = ds[ds['audio_name'].notnull()]"
   ]
  },
  {
   "cell_type": "code",
   "execution_count": 104,
   "id": "31276d6e",
   "metadata": {},
   "outputs": [],
   "source": [
    "found_midi = []\n",
    "missing_midi = []\n",
    "for name in ds_with_audio_name[\"audio_name\"]:\n",
    "    path = f\"{midi_path}/{name}.mid\"\n",
    "    if os.path.isfile(path):\n",
    "        found_midi.append(name)\n",
    "    else:\n",
    "        missing_midi.append(name)"
   ]
  },
  {
   "cell_type": "code",
   "execution_count": 105,
   "id": "fe8ea9a5",
   "metadata": {},
   "outputs": [
    {
     "name": "stdout",
     "output_type": "stream",
     "text": [
      "found 948 of midis from dataset\n",
      "5636 of music is missing\n"
     ]
    }
   ],
   "source": [
    "print(f\"found {len(found_midi)} of midis from dataset\")\n",
    "print(f\"{len(missing_midi)} of music is missing\")"
   ]
  },
  {
   "cell_type": "code",
   "execution_count": 94,
   "id": "6082371c",
   "metadata": {},
   "outputs": [],
   "source": [
    "ds_with_midi = newDs[newDs['audio_name'].isin(found_midi)]"
   ]
  },
  {
   "cell_type": "code",
   "execution_count": 97,
   "id": "64a718a5",
   "metadata": {},
   "outputs": [],
   "source": [
    "ds_with_midi.to_csv(\"../ds_labeled_with_midi.csv\")"
   ]
  },
  {
   "cell_type": "markdown",
   "id": "f6c54f12",
   "metadata": {},
   "source": [
    "## Save MIDI Files"
   ]
  },
  {
   "cell_type": "code",
   "execution_count": 108,
   "id": "f479990a",
   "metadata": {},
   "outputs": [],
   "source": [
    "import shutil"
   ]
  },
  {
   "cell_type": "code",
   "execution_count": 109,
   "id": "2bfc5440",
   "metadata": {},
   "outputs": [],
   "source": [
    "src_folder = \"/Users/kinchang/GiantMIDI-Piano/workspace/midis\"\n",
    "dst_folder = \"/Users/kinchang/muzera/midis\""
   ]
  },
  {
   "cell_type": "code",
   "execution_count": 110,
   "id": "66e70432",
   "metadata": {},
   "outputs": [],
   "source": [
    "for name in found_midi:\n",
    "    src = f\"{src_folder}/{name}.mid\"\n",
    "    dst = f\"{dst_folder}/{name}.mid\"\n",
    "    shutil.copy(src, dst)"
   ]
  },
  {
   "cell_type": "code",
   "execution_count": null,
   "id": "ec868a58",
   "metadata": {},
   "outputs": [],
   "source": []
  }
 ],
 "metadata": {
  "kernelspec": {
   "display_name": "Python 3 (ipykernel)",
   "language": "python",
   "name": "python3"
  },
  "language_info": {
   "codemirror_mode": {
    "name": "ipython",
    "version": 3
   },
   "file_extension": ".py",
   "mimetype": "text/x-python",
   "name": "python",
   "nbconvert_exporter": "python",
   "pygments_lexer": "ipython3",
   "version": "3.9.7"
  }
 },
 "nbformat": 4,
 "nbformat_minor": 5
}
